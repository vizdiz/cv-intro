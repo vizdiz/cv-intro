{
 "cells": [
  {
   "cell_type": "code",
   "execution_count": null,
   "metadata": {},
   "outputs": [],
   "source": [
    "import cv2\n",
    "from matplotlib import pyplot as plt"
   ]
  },
  {
   "cell_type": "code",
   "execution_count": null,
   "metadata": {},
   "outputs": [],
   "source": [
    "IP_ADDRESS = \"10.29.77.218\""
   ]
  },
  {
   "cell_type": "code",
   "execution_count": null,
   "metadata": {},
   "outputs": [],
   "source": [
    "vcap = cv2.VideoCapture(f\"rtsp://{IP_ADDRESS}:8554/rovcam\")\n",
    "\n",
    "img = None\n",
    "\n",
    "MAX_RETRY = 100\n",
    "count = 0\n",
    "while count < MAX_RETRY:\n",
    "    count += 1\n",
    "    # Obtain the frame\n",
    "    ret, frame = vcap.read()\n",
    "\n",
    "    # Check frame was received successfully\n",
    "    if ret:\n",
    "        # got a frame, close the cap and return the frame\n",
    "        print(\" got a frame \")\n",
    "        img = frame\n",
    "        vcap.release()\n",
    "\n",
    "vcap.release()"
   ]
  },
  {
   "cell_type": "code",
   "execution_count": null,
   "metadata": {},
   "outputs": [],
   "source": [
    "type(img)"
   ]
  },
  {
   "cell_type": "code",
   "execution_count": null,
   "metadata": {},
   "outputs": [],
   "source": [
    "plt.imshow(img)"
   ]
  },
  {
   "cell_type": "code",
   "execution_count": null,
   "metadata": {},
   "outputs": [],
   "source": []
  }
 ],
 "metadata": {
  "kernelspec": {
   "display_name": "bwsi",
   "language": "python",
   "name": "python3"
  },
  "language_info": {
   "codemirror_mode": {
    "name": "ipython",
    "version": 3
   },
   "file_extension": ".py",
   "mimetype": "text/x-python",
   "name": "python",
   "nbconvert_exporter": "python",
   "pygments_lexer": "ipython3",
   "version": "3.11.4"
  },
  "orig_nbformat": 4
 },
 "nbformat": 4,
 "nbformat_minor": 2
}
