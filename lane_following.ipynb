{
 "cells": [
  {
   "cell_type": "code",
   "execution_count": 5,
   "metadata": {},
   "outputs": [],
   "source": [
    "import cv2\n",
    "import matplotlib.pyplot as plt\n",
    "import math\n",
    "\n",
    "from lane_following import process_image"
   ]
  },
  {
   "cell_type": "code",
   "execution_count": 6,
   "metadata": {},
   "outputs": [
    {
     "name": "stdout",
     "output_type": "stream",
     "text": [
      "Lanes found.\n",
      "1.3494818844471053\n",
      "444.67499999999995\n",
      "Lanes found.\n",
      "1.3445978388850106\n",
      "449.23561643835615\n",
      "Lanes found.\n",
      "1.350302565428225\n",
      "443.94827586206895\n",
      "Lanes found.\n",
      "1.3439974787410107\n",
      "450.0\n",
      "Lanes found.\n",
      "1.3449846452515413\n",
      "450.0405405405405\n",
      "Lanes found.\n",
      "1.343783940414126\n",
      "450.7280701754386\n",
      "Lanes found.\n",
      "1.3449431049366896\n",
      "450.2394822006472\n",
      "Lanes found.\n",
      "1.343477728268062\n",
      "452.0\n",
      "Lanes found.\n",
      "1.3422230826311143\n",
      "453.64930555555554\n"
     ]
    },
    {
     "name": "stderr",
     "output_type": "stream",
     "text": [
      "/home/vismay/cv-intro/lane_detection.py:58: RuntimeWarning: divide by zero encountered in scalar divide\n",
      "  b = x1 + ((height - y1) / m)\n",
      "/home/vismay/cv-intro/lane_detection.py:106: RuntimeWarning: divide by zero encountered in scalar divide\n",
      "  abs(1 / slopes[i_1] - 1 / slopes[i_0]) < m_tol\n",
      "/home/vismay/cv-intro/lane_detection.py:93: RuntimeWarning: divide by zero encountered in scalar divide\n",
      "  or (abs(1 / slopes[i_0]) > horizontal_tol)\n"
     ]
    },
    {
     "name": "stdout",
     "output_type": "stream",
     "text": [
      "Lanes found.\n",
      "1.342939278077797\n",
      "453.01449275362324\n",
      "Lanes found.\n",
      "1.3285034226534356\n",
      "469.2623574144486\n",
      "Lanes found.\n",
      "1.343321346322069\n",
      "453.67592592592587\n",
      "Lanes found.\n",
      "1.330529054013958\n",
      "467.235\n",
      "Lanes found.\n",
      "1.3266797324199973\n",
      "471.6336996336996\n",
      "Lanes found.\n",
      "1.3301796861656487\n",
      "467.9074074074074\n",
      "Lanes found.\n",
      "1.3339475658479765\n",
      "463.9655172413793\n",
      "Lanes found.\n",
      "1.3312970608847376\n",
      "466.90697674418607\n",
      "Lanes found.\n",
      "1.3266434273118846\n",
      "471.9263157894736\n",
      "Lanes found.\n",
      "1.3265077946833808\n",
      "471.10557184750735\n",
      "Lanes found.\n",
      "1.3275111421507477\n",
      "470.30935251798564\n",
      "Lanes found.\n",
      "1.3264997918023438\n",
      "470.35942028985505\n",
      "Lanes found.\n",
      "1.3274871111988864\n",
      "469.57446808510645\n",
      "Lanes found.\n",
      "1.331172364832014\n",
      "464.9488636363636\n"
     ]
    },
    {
     "ename": "KeyboardInterrupt",
     "evalue": "",
     "output_type": "error",
     "traceback": [
      "\u001b[0;31m---------------------------------------------------------------------------\u001b[0m",
      "\u001b[0;31mKeyboardInterrupt\u001b[0m                         Traceback (most recent call last)",
      "Cell \u001b[0;32mIn[6], line 11\u001b[0m\n\u001b[1;32m      8\u001b[0m \u001b[39mif\u001b[39;00m \u001b[39mnot\u001b[39;00m ret:\n\u001b[1;32m      9\u001b[0m     \u001b[39mbreak\u001b[39;00m\n\u001b[0;32m---> 11\u001b[0m b, m \u001b[39m=\u001b[39m process_image(img, \u001b[39mFalse\u001b[39;49;00m)\n\u001b[1;32m     13\u001b[0m alpha_error \u001b[39m=\u001b[39m math\u001b[39m.\u001b[39matan(m)\n\u001b[1;32m     15\u001b[0m translational_error \u001b[39m=\u001b[39m b \u001b[39m-\u001b[39m (img\u001b[39m.\u001b[39mshape[\u001b[39m0\u001b[39m] \u001b[39m/\u001b[39m \u001b[39m2\u001b[39m)\n",
      "File \u001b[0;32m~/cv-intro/lane_following.py:64\u001b[0m, in \u001b[0;36mprocess_image\u001b[0;34m(img, underwater)\u001b[0m\n\u001b[1;32m     61\u001b[0m height, width, channels \u001b[39m=\u001b[39m img\u001b[39m.\u001b[39mshape\n\u001b[1;32m     63\u001b[0m \u001b[39mif\u001b[39;00m \u001b[39mnot\u001b[39;00m underwater:\n\u001b[0;32m---> 64\u001b[0m     lines \u001b[39m=\u001b[39m detect_lines(img, \u001b[39m40\u001b[39;49m, \u001b[39m70\u001b[39;49m, \u001b[39m5\u001b[39;49m, \u001b[39m50\u001b[39;49m, \u001b[39m30\u001b[39;49m)\n\u001b[1;32m     65\u001b[0m \u001b[39melse\u001b[39;00m:\n\u001b[1;32m     66\u001b[0m     lines \u001b[39m=\u001b[39m detect_lines(img, \u001b[39m5\u001b[39m, \u001b[39m70\u001b[39m, \u001b[39m3\u001b[39m, \u001b[39m300\u001b[39m, \u001b[39m100\u001b[39m)\n",
      "File \u001b[0;32m~/cv-intro/lane_detection.py:22\u001b[0m, in \u001b[0;36mdetect_lines\u001b[0;34m(img, threshold1, threshold2, apertureSize, minLineLength, maxLineGap)\u001b[0m\n\u001b[1;32m     18\u001b[0m ret, threshold \u001b[39m=\u001b[39m cv2\u001b[39m.\u001b[39mthreshold(gray, min_threshold, \u001b[39m255\u001b[39m, cv2\u001b[39m.\u001b[39mTHRESH_BINARY)\n\u001b[1;32m     19\u001b[0m edges \u001b[39m=\u001b[39m cv2\u001b[39m.\u001b[39mCanny(\n\u001b[1;32m     20\u001b[0m     threshold, threshold1, threshold2, apertureSize\u001b[39m=\u001b[39mapertureSize\n\u001b[1;32m     21\u001b[0m )  \u001b[39m# detect edges\u001b[39;00m\n\u001b[0;32m---> 22\u001b[0m lines \u001b[39m=\u001b[39m cv2\u001b[39m.\u001b[39;49mHoughLinesP(\n\u001b[1;32m     23\u001b[0m     edges,\n\u001b[1;32m     24\u001b[0m     \u001b[39m1\u001b[39;49m,\n\u001b[1;32m     25\u001b[0m     np\u001b[39m.\u001b[39;49mpi \u001b[39m/\u001b[39;49m \u001b[39m180\u001b[39;49m,\n\u001b[1;32m     26\u001b[0m     \u001b[39m100\u001b[39;49m,\n\u001b[1;32m     27\u001b[0m     minLineLength\u001b[39m=\u001b[39;49mminLineLength,\n\u001b[1;32m     28\u001b[0m     maxLineGap\u001b[39m=\u001b[39;49mmaxLineGap,\n\u001b[1;32m     29\u001b[0m )  \u001b[39m# detects lines\u001b[39;00m\n\u001b[1;32m     31\u001b[0m \u001b[39mreturn\u001b[39;00m lines\n",
      "\u001b[0;31mKeyboardInterrupt\u001b[0m: "
     ]
    }
   ],
   "source": [
    "vcap = cv2.VideoCapture(\"AUV_Vid.mkv\")\n",
    "\n",
    "# out = cv2.VideoWriter(\"guidance.avi\", cv2.VideoWriter_fourcc(*\"DIVX\"), 1, (1920, 1080))\n",
    "\n",
    "while True:\n",
    "    ret, img = vcap.read()\n",
    "\n",
    "    if not ret:\n",
    "        break\n",
    "\n",
    "    b, m = process_image(img, False)\n",
    "\n",
    "    alpha_error = math.atan(m)\n",
    "\n",
    "    translational_error = b - (img.shape[0] / 2)\n",
    "\n",
    "    print(alpha_error)\n",
    "    print(translational_error)\n",
    "\n",
    "    # img = process_image(img)\n",
    "\n",
    "    # out.write(img)\n",
    "\n",
    "# out.release()"
   ]
  },
  {
   "cell_type": "code",
   "execution_count": null,
   "metadata": {},
   "outputs": [],
   "source": []
  }
 ],
 "metadata": {
  "kernelspec": {
   "display_name": "bluecv",
   "language": "python",
   "name": "python3"
  },
  "language_info": {
   "codemirror_mode": {
    "name": "ipython",
    "version": 3
   },
   "file_extension": ".py",
   "mimetype": "text/x-python",
   "name": "python",
   "nbconvert_exporter": "python",
   "pygments_lexer": "ipython3",
   "version": "3.9.2"
  },
  "orig_nbformat": 4
 },
 "nbformat": 4,
 "nbformat_minor": 2
}
