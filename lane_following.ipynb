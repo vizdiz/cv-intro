{
 "cells": [
  {
   "cell_type": "code",
   "execution_count": null,
   "metadata": {},
   "outputs": [],
   "source": [
    "import cv2\n",
    "import matplotlib.pyplot as plt\n",
    "\n",
    "from lane_following import process_image"
   ]
  },
  {
   "cell_type": "code",
   "execution_count": null,
   "metadata": {},
   "outputs": [],
   "source": [
    "vcap = cv2.VideoCapture(\"AUV_Vid.mkv\")\n",
    "\n",
    "\n",
    "out = cv2.VideoWriter(\"guidance.avi\", cv2.VideoWriter_fourcc(*\"DIVX\"), 1, (1920, 1080))\n",
    "\n",
    "while True:\n",
    "    ret, img = vcap.read()\n",
    "\n",
    "    if not ret:\n",
    "        break\n",
    "\n",
    "    img = process_image(img)\n",
    "\n",
    "    out.write(img)\n",
    "\n",
    "out.release()"
   ]
  }
 ],
 "metadata": {
  "language_info": {
   "name": "python"
  },
  "orig_nbformat": 4
 },
 "nbformat": 4,
 "nbformat_minor": 2
}
