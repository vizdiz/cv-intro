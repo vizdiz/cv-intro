{
 "cells": [
  {
   "cell_type": "code",
   "execution_count": 1,
   "metadata": {},
   "outputs": [],
   "source": [
    "import cv2\n",
    "import matplotlib.pyplot as plt\n",
    "import numpy as np\n",
    "import math\n",
    "\n",
    "from lane_following import process_image"
   ]
  },
  {
   "cell_type": "code",
   "execution_count": 2,
   "metadata": {},
   "outputs": [
    {
     "name": "stderr",
     "output_type": "stream",
     "text": [
      "/home/vismay/cv-intro/lane_detection.py:67: RuntimeWarning: divide by zero encountered in scalar divide\n",
      "  b = x1 + ((height - y1) / m)\n",
      "/home/vismay/cv-intro/lane_detection.py:115: RuntimeWarning: divide by zero encountered in scalar divide\n",
      "  abs(1 / slopes[i_1] - 1 / slopes[i_0]) < m_tol\n",
      "/home/vismay/cv-intro/lane_detection.py:102: RuntimeWarning: divide by zero encountered in scalar divide\n",
      "  or (abs(1 / slopes[i_0]) > horizontal_tol)\n"
     ]
    },
    {
     "ename": "KeyboardInterrupt",
     "evalue": "",
     "output_type": "error",
     "traceback": [
      "\u001b[0;31m---------------------------------------------------------------------------\u001b[0m",
      "\u001b[0;31mKeyboardInterrupt\u001b[0m                         Traceback (most recent call last)",
      "Cell \u001b[0;32mIn[2], line 49\u001b[0m\n\u001b[1;32m     44\u001b[0m         \u001b[39mbreak\u001b[39;00m\n\u001b[1;32m     46\u001b[0m     \u001b[39m# plt.imshow(img)\u001b[39;00m\n\u001b[1;32m     47\u001b[0m     \u001b[39m# plt.show()\u001b[39;00m\n\u001b[0;32m---> 49\u001b[0m     out\u001b[39m.\u001b[39;49mwrite(img)\n\u001b[1;32m     51\u001b[0m out\u001b[39m.\u001b[39mrelease()\n",
      "\u001b[0;31mKeyboardInterrupt\u001b[0m: "
     ]
    }
   ],
   "source": [
    "vcap = cv2.VideoCapture(\"AUV_Vid.mkv\")\n",
    "\n",
    "out = cv2.VideoWriter(\"guidance.avi\", cv2.VideoWriter_fourcc(*\"DIVX\"), 1, (1920, 1080))\n",
    "\n",
    "while True:\n",
    "    ret, img = vcap.read()\n",
    "\n",
    "    if not ret:\n",
    "        break\n",
    "\n",
    "    # b, m = process_image(img, False)\n",
    "\n",
    "    # alpha_error = math.atan(m)\n",
    "\n",
    "    # translational_error = b - (img.shape[0] / 2)\n",
    "\n",
    "    # print(alpha_error)\n",
    "    # print(translational_error)\n",
    "\n",
    "    if type(img) == None:\n",
    "        break\n",
    "\n",
    "    try:\n",
    "        height, width, channels = img.shape\n",
    "        b, m, img = process_image(img)\n",
    "\n",
    "        delta = math.pi / 2 - (\n",
    "            math.atan(m) if (math.atan(m) > 0) else math.atan(m) + math.pi\n",
    "        )\n",
    "        lateral_offset = (b - width) / width\n",
    "\n",
    "        dist = 68\n",
    "\n",
    "        cv2.putText(\n",
    "            img,\n",
    "            f\"Delta: {np.rad2deg(delta)} degrees, Lateral Offset: {lateral_offset} percent\",\n",
    "            org=(dist, dist),\n",
    "            fontFace=cv2.FONT_HERSHEY_SIMPLEX,\n",
    "            fontScale=1.0,\n",
    "            color=(255, 0, 0),\n",
    "        )\n",
    "    except Exception as e:\n",
    "        print(e)\n",
    "        break\n",
    "\n",
    "    # plt.imshow(img)\n",
    "    # plt.show()\n",
    "\n",
    "    out.write(img)\n",
    "\n",
    "out.release()"
   ]
  },
  {
   "cell_type": "code",
   "execution_count": null,
   "metadata": {},
   "outputs": [],
   "source": []
  }
 ],
 "metadata": {
  "kernelspec": {
   "display_name": "bluecv",
   "language": "python",
   "name": "python3"
  },
  "language_info": {
   "codemirror_mode": {
    "name": "ipython",
    "version": 3
   },
   "file_extension": ".py",
   "mimetype": "text/x-python",
   "name": "python",
   "nbconvert_exporter": "python",
   "pygments_lexer": "ipython3",
   "version": "3.9.2"
  },
  "orig_nbformat": 4
 },
 "nbformat": 4,
 "nbformat_minor": 2
}
