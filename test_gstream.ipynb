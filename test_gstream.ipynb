{
 "cells": [
  {
   "cell_type": "code",
   "execution_count": 1,
   "metadata": {},
   "outputs": [],
   "source": [
    "from video import Video\n",
    "from matplotlib import pyplot as plt\n",
    "from time import sleep"
   ]
  },
  {
   "cell_type": "code",
   "execution_count": 3,
   "metadata": {},
   "outputs": [
    {
     "ename": "AttributeError",
     "evalue": "'NoneType' object has no attribute 'connect'",
     "output_type": "error",
     "traceback": [
      "\u001b[0;31m---------------------------------------------------------------------------\u001b[0m",
      "\u001b[0;31mAttributeError\u001b[0m                            Traceback (most recent call last)",
      "Cell \u001b[0;32mIn[3], line 1\u001b[0m\n\u001b[0;32m----> 1\u001b[0m video \u001b[39m=\u001b[39m Video()\n\u001b[1;32m      2\u001b[0m \u001b[39mprint\u001b[39m(\u001b[39m\"\u001b[39m\u001b[39mInitialising stream...\u001b[39m\u001b[39m\"\u001b[39m)\n\u001b[1;32m      3\u001b[0m waited \u001b[39m=\u001b[39m \u001b[39m0\u001b[39m\n",
      "File \u001b[0;32m~/cv-intro/video.py:60\u001b[0m, in \u001b[0;36mVideo.__init__\u001b[0;34m(self, port)\u001b[0m\n\u001b[1;32m     57\u001b[0m \u001b[39mself\u001b[39m\u001b[39m.\u001b[39mvideo_pipe \u001b[39m=\u001b[39m \u001b[39mNone\u001b[39;00m\n\u001b[1;32m     58\u001b[0m \u001b[39mself\u001b[39m\u001b[39m.\u001b[39mvideo_sink \u001b[39m=\u001b[39m \u001b[39mNone\u001b[39;00m\n\u001b[0;32m---> 60\u001b[0m \u001b[39mself\u001b[39;49m\u001b[39m.\u001b[39;49mrun()\n",
      "File \u001b[0;32m~/cv-intro/video.py:138\u001b[0m, in \u001b[0;36mVideo.run\u001b[0;34m(self)\u001b[0m\n\u001b[1;32m    127\u001b[0m \u001b[39m\"\"\"Get frame to update _new_frame\"\"\"\u001b[39;00m\n\u001b[1;32m    129\u001b[0m \u001b[39mself\u001b[39m\u001b[39m.\u001b[39mstart_gst(\n\u001b[1;32m    130\u001b[0m     [\n\u001b[1;32m    131\u001b[0m         \u001b[39mself\u001b[39m\u001b[39m.\u001b[39mvideo_source,\n\u001b[0;32m   (...)\u001b[0m\n\u001b[1;32m    135\u001b[0m     ]\n\u001b[1;32m    136\u001b[0m )\n\u001b[0;32m--> 138\u001b[0m \u001b[39mself\u001b[39;49m\u001b[39m.\u001b[39;49mvideo_sink\u001b[39m.\u001b[39;49mconnect(\u001b[39m\"\u001b[39m\u001b[39mnew-sample\u001b[39m\u001b[39m\"\u001b[39m, \u001b[39mself\u001b[39m\u001b[39m.\u001b[39mcallback)\n",
      "\u001b[0;31mAttributeError\u001b[0m: 'NoneType' object has no attribute 'connect'"
     ]
    }
   ],
   "source": [
    "video = Video()\n",
    "print(\"Initialising stream...\")\n",
    "waited = 0\n",
    "while not video.frame_available():\n",
    "    waited += 1\n",
    "    print(\"\\r  Frame not available (x{})\".format(waited), end=\"\")\n",
    "    sleep(0.1)\n",
    "    # cv2.waitKey(30)\n",
    "    if waited > 100:\n",
    "        print(\"failed\")\n",
    "        break\n",
    "print('\\nSuccess!\\nStarting streaming - press \"q\" to quit.')"
   ]
  },
  {
   "cell_type": "code",
   "execution_count": null,
   "metadata": {},
   "outputs": [],
   "source": [
    "# Wait for the next frame to become available\n",
    "if video.frame_available():\n",
    "    # Only retrieve and display a frame if it's new\n",
    "    frame = video.frame()\n",
    "    # cv2.imshow('frame', frame)\n",
    "# Allow frame to display, and check if user wants to quit\n",
    "# if cv2.waitKey(1) & 0xFF == ord('q'):\n",
    "#     break\n",
    "\n",
    "plt.imshow(frame)"
   ]
  },
  {
   "cell_type": "code",
   "execution_count": null,
   "metadata": {},
   "outputs": [],
   "source": []
  }
 ],
 "metadata": {
  "kernelspec": {
   "display_name": "bluecv",
   "language": "python",
   "name": "python3"
  },
  "language_info": {
   "codemirror_mode": {
    "name": "ipython",
    "version": 3
   },
   "file_extension": ".py",
   "mimetype": "text/x-python",
   "name": "python",
   "nbconvert_exporter": "python",
   "pygments_lexer": "ipython3",
   "version": "3.9.2"
  },
  "orig_nbformat": 4
 },
 "nbformat": 4,
 "nbformat_minor": 2
}
