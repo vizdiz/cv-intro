{
 "cells": [
  {
   "cell_type": "code",
   "execution_count": 1,
   "metadata": {},
   "outputs": [],
   "source": [
    "import cv2\n",
    "\n",
    "from april_tag import detect_april_tags"
   ]
  },
  {
   "cell_type": "code",
   "execution_count": 3,
   "metadata": {},
   "outputs": [
    {
     "name": "stdout",
     "output_type": "stream",
     "text": [
      "[[[ 61   4   0]\n",
      "  [ 61   4   0]\n",
      "  [ 61   4   0]\n",
      "  ...\n",
      "  [ 49   0   0]\n",
      "  [ 49   0   0]\n",
      "  [ 49   0   0]]\n",
      "\n",
      " [[ 61   4   0]\n",
      "  [ 61   4   0]\n",
      "  [ 61   4   0]\n",
      "  ...\n",
      "  [ 49   0   0]\n",
      "  [ 49   0   0]\n",
      "  [ 49   0   0]]\n",
      "\n",
      " [[ 61   4   0]\n",
      "  [ 61   4   0]\n",
      "  [ 61   4   0]\n",
      "  ...\n",
      "  [ 49   0   0]\n",
      "  [ 49   0   0]\n",
      "  [ 49   0   0]]\n",
      "\n",
      " ...\n",
      "\n",
      " [[138 129 130]\n",
      "  [138 129 130]\n",
      "  [139 130 131]\n",
      "  ...\n",
      "  [111  84  82]\n",
      "  [111  84  82]\n",
      "  [111  84  82]]\n",
      "\n",
      " [[134 127 129]\n",
      "  [134 127 129]\n",
      "  [136 129 130]\n",
      "  ...\n",
      "  [101  79  76]\n",
      "  [100  77  75]\n",
      "  [100  77  75]]\n",
      "\n",
      " [[134 127 129]\n",
      "  [134 127 129]\n",
      "  [136 129 130]\n",
      "  ...\n",
      "  [ 96  74  72]\n",
      "  [ 95  73  70]\n",
      "  [ 95  73  70]]]\n"
     ]
    },
    {
     "ename": "AssertionError",
     "evalue": "",
     "output_type": "error",
     "traceback": [
      "\u001b[0;31m---------------------------------------------------------------------------\u001b[0m",
      "\u001b[0;31mAssertionError\u001b[0m                            Traceback (most recent call last)",
      "Cell \u001b[0;32mIn[3], line 17\u001b[0m\n\u001b[1;32m     13\u001b[0m         \u001b[39mbreak\u001b[39;00m\n\u001b[1;32m     15\u001b[0m     \u001b[39mprint\u001b[39m(img)\n\u001b[0;32m---> 17\u001b[0m     img \u001b[39m=\u001b[39m detect_april_tags(img)\n\u001b[1;32m     19\u001b[0m     out\u001b[39m.\u001b[39mwrite(img)\n\u001b[1;32m     21\u001b[0m out\u001b[39m.\u001b[39mrelease()\n",
      "File \u001b[0;32m~/cv-intro/april_tag.py:18\u001b[0m, in \u001b[0;36mdetect_april_tags\u001b[0;34m(img)\u001b[0m\n\u001b[1;32m      7\u001b[0m \u001b[39mdef\u001b[39;00m \u001b[39mdetect_april_tags\u001b[39m(img):\n\u001b[1;32m      8\u001b[0m     at_detector \u001b[39m=\u001b[39m Detector(\n\u001b[1;32m      9\u001b[0m         families\u001b[39m=\u001b[39m\u001b[39m\"\u001b[39m\u001b[39mtag36h11\u001b[39m\u001b[39m\"\u001b[39m,\n\u001b[1;32m     10\u001b[0m         nthreads\u001b[39m=\u001b[39m\u001b[39m1\u001b[39m,\n\u001b[0;32m   (...)\u001b[0m\n\u001b[1;32m     15\u001b[0m         debug\u001b[39m=\u001b[39m\u001b[39m0\u001b[39m,\n\u001b[1;32m     16\u001b[0m     )\n\u001b[0;32m---> 18\u001b[0m     tags \u001b[39m=\u001b[39m at_detector\u001b[39m.\u001b[39;49mdetect(\n\u001b[1;32m     19\u001b[0m         img, estimate_tag_pose\u001b[39m=\u001b[39;49m\u001b[39mFalse\u001b[39;49;00m, camera_params\u001b[39m=\u001b[39;49m\u001b[39mNone\u001b[39;49;00m, tag_size\u001b[39m=\u001b[39;49m\u001b[39mNone\u001b[39;49;00m\n\u001b[1;32m     20\u001b[0m     )\n\u001b[1;32m     22\u001b[0m     color_img \u001b[39m=\u001b[39m cv2\u001b[39m.\u001b[39mcvtColor(img, cv2\u001b[39m.\u001b[39mCOLOR_GRAY2RGB)\n\u001b[1;32m     23\u001b[0m     \u001b[39mfor\u001b[39;00m tag \u001b[39min\u001b[39;00m tags:\n",
      "File \u001b[0;32m~/.virtualenvs/bluecv/lib/python3.9/site-packages/dt_apriltags/apriltags.py:355\u001b[0m, in \u001b[0;36mDetector.detect\u001b[0;34m(self, img, estimate_tag_pose, camera_params, tag_size)\u001b[0m\n\u001b[1;32m    350\u001b[0m \u001b[39mdef\u001b[39;00m \u001b[39mdetect\u001b[39m(\u001b[39mself\u001b[39m, img, estimate_tag_pose\u001b[39m=\u001b[39m\u001b[39mFalse\u001b[39;00m, camera_params\u001b[39m=\u001b[39m\u001b[39mNone\u001b[39;00m, tag_size\u001b[39m=\u001b[39m\u001b[39mNone\u001b[39;00m):\n\u001b[1;32m    351\u001b[0m \u001b[39m    \u001b[39m\u001b[39m\"\"\"\u001b[39;00m\n\u001b[1;32m    352\u001b[0m \u001b[39m    Run detectons on the provided image. The image must be a grayscale\u001b[39;00m\n\u001b[1;32m    353\u001b[0m \u001b[39m    image of type numpy.uint8.\u001b[39;00m\n\u001b[1;32m    354\u001b[0m \u001b[39m    \"\"\"\u001b[39;00m\n\u001b[0;32m--> 355\u001b[0m     \u001b[39massert\u001b[39;00m \u001b[39mlen\u001b[39m(img\u001b[39m.\u001b[39mshape) \u001b[39m==\u001b[39m \u001b[39m2\u001b[39m\n\u001b[1;32m    356\u001b[0m     \u001b[39massert\u001b[39;00m img\u001b[39m.\u001b[39mdtype \u001b[39m==\u001b[39m numpy\u001b[39m.\u001b[39muint8\n\u001b[1;32m    358\u001b[0m     c_img \u001b[39m=\u001b[39m \u001b[39mself\u001b[39m\u001b[39m.\u001b[39m_convert_image(img)\n",
      "\u001b[0;31mAssertionError\u001b[0m: "
     ]
    }
   ],
   "source": [
    "import cv2\n",
    "\n",
    "vcap = cv2.VideoCapture(\"AprilTagTest.mkv\")\n",
    "\n",
    "out = cv2.VideoWriter(\n",
    "    \"april_tag_detection.avi\", cv2.VideoWriter_fourcc(*\"DIVX\"), 1, (1920, 1080)\n",
    ")\n",
    "\n",
    "while True:\n",
    "    ret, img = vcap.read()\n",
    "\n",
    "    if not ret:\n",
    "        break\n",
    "\n",
    "    img = cv2.cvtColor(img, cv2.COLOR_BGR2GRAY)\n",
    "\n",
    "    img = detect_april_tags(img)\n",
    "\n",
    "    out.write(img)\n",
    "\n",
    "out.release()"
   ]
  },
  {
   "cell_type": "code",
   "execution_count": null,
   "metadata": {},
   "outputs": [],
   "source": []
  }
 ],
 "metadata": {
  "kernelspec": {
   "display_name": "bluecv",
   "language": "python",
   "name": "python3"
  },
  "language_info": {
   "codemirror_mode": {
    "name": "ipython",
    "version": 3
   },
   "file_extension": ".py",
   "mimetype": "text/x-python",
   "name": "python",
   "nbconvert_exporter": "python",
   "pygments_lexer": "ipython3",
   "version": "3.9.2"
  },
  "orig_nbformat": 4
 },
 "nbformat": 4,
 "nbformat_minor": 2
}
